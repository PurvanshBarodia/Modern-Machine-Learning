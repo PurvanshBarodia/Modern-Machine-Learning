{
  "nbformat": 4,
  "nbformat_minor": 0,
  "metadata": {
    "colab": {
      "name": "Lab2_Features_FMML20210266.ipynb",
      "provenance": [],
      "collapsed_sections": [],
      "include_colab_link": true
    },
    "kernelspec": {
      "name": "python3",
      "display_name": "Python 3"
    },
    "language_info": {
      "name": "python"
    }
  },
  "cells": [
    {
      "cell_type": "markdown",
      "metadata": {
        "id": "view-in-github",
        "colab_type": "text"
      },
      "source": [
        "<a href=\"https://colab.research.google.com/github/PurvanshBarodia/Modern-Machine-Learning/blob/main/Module%201/Lab2_Features_FMML20210266.ipynb\" target=\"_parent\"><img src=\"https://colab.research.google.com/assets/colab-badge.svg\" alt=\"Open In Colab\"/></a>"
      ]
    },
    {
      "cell_type": "markdown",
      "metadata": {
        "id": "3Eu9VZbF01eq"
      },
      "source": [
        "# Machine learning terms and metrics\n",
        "\n",
        "FMML Module 1, Lab 2<br>\n",
        " Module Coordinator: Thrupthi Ann John thrupthi.ann@research.iiit.ac.in <br>\n",
        " Release date: 11 October 2021 Monday <br>\n",
        "\n",
        " In this lab, we will show a part of the ML pipeline by extracting features, training and testing"
      ]
    },
    {
      "cell_type": "code",
      "metadata": {
        "id": "8qBvyEem0vLi"
      },
      "source": [
        "import matplotlib.pyplot as plt\n",
        "import numpy as np\n",
        "from sklearn import datasets\n",
        "# set randomseed\n",
        "rng = np.random.default_rng(seed=42)"
      ],
      "execution_count": null,
      "outputs": []
    },
    {
      "cell_type": "markdown",
      "metadata": {
        "id": "u3t59g5s1HfC"
      },
      "source": [
        "In this lab, we will use the California Housing dataset. There are 20640 samples, each with 8 attributes like income of the block, age of the houses per district etc. The task is to predict the cost of the houses per district. \n",
        "\n",
        "Let us download and examine the dataset. "
      ]
    },
    {
      "cell_type": "code",
      "metadata": {
        "id": "8LpqjN991GGJ",
        "colab": {
          "base_uri": "https://localhost:8080/"
        },
        "outputId": "3c5dc258-dfcd-4ae0-984f-3e50d1530c71"
      },
      "source": [
        " dataset =  datasets.fetch_california_housing()\n",
        " print(dataset.DESCR)  # uncomment this if you want to know more about this dataset\n",
        " print(dataset.keys())  # if you want to know what else is there in this dataset\n",
        " dataset.target = dataset.target.astype(np.int) # so that we can classify\n",
        " print(dataset.data.shape)\n",
        " print(dataset.target.shape)"
      ],
      "execution_count": null,
      "outputs": [
        {
          "output_type": "stream",
          "name": "stderr",
          "text": [
            "Downloading Cal. housing from https://ndownloader.figshare.com/files/5976036 to /root/scikit_learn_data\n"
          ]
        },
        {
          "output_type": "stream",
          "name": "stdout",
          "text": [
            ".. _california_housing_dataset:\n",
            "\n",
            "California Housing dataset\n",
            "--------------------------\n",
            "\n",
            "**Data Set Characteristics:**\n",
            "\n",
            "    :Number of Instances: 20640\n",
            "\n",
            "    :Number of Attributes: 8 numeric, predictive attributes and the target\n",
            "\n",
            "    :Attribute Information:\n",
            "        - MedInc        median income in block\n",
            "        - HouseAge      median house age in block\n",
            "        - AveRooms      average number of rooms\n",
            "        - AveBedrms     average number of bedrooms\n",
            "        - Population    block population\n",
            "        - AveOccup      average house occupancy\n",
            "        - Latitude      house block latitude\n",
            "        - Longitude     house block longitude\n",
            "\n",
            "    :Missing Attribute Values: None\n",
            "\n",
            "This dataset was obtained from the StatLib repository.\n",
            "http://lib.stat.cmu.edu/datasets/\n",
            "\n",
            "The target variable is the median house value for California districts.\n",
            "\n",
            "This dataset was derived from the 1990 U.S. census, using one row per census\n",
            "block group. A block group is the smallest geographical unit for which the U.S.\n",
            "Census Bureau publishes sample data (a block group typically has a population\n",
            "of 600 to 3,000 people).\n",
            "\n",
            "It can be downloaded/loaded using the\n",
            ":func:`sklearn.datasets.fetch_california_housing` function.\n",
            "\n",
            ".. topic:: References\n",
            "\n",
            "    - Pace, R. Kelley and Ronald Barry, Sparse Spatial Autoregressions,\n",
            "      Statistics and Probability Letters, 33 (1997) 291-297\n",
            "\n",
            "dict_keys(['data', 'target', 'feature_names', 'DESCR'])\n",
            "(20640, 8)\n",
            "(20640,)\n"
          ]
        }
      ]
    },
    {
      "cell_type": "markdown",
      "metadata": {
        "id": "iNx4174W5xRg"
      },
      "source": [
        "Here is a function for calculating the 1-nearest neighbours"
      ]
    },
    {
      "cell_type": "code",
      "metadata": {
        "id": "07zpydQj1hIQ"
      },
      "source": [
        "def NN1(traindata, trainlabel, query):\n",
        "  diff  = traindata - query  # find the difference between features. Numpy automatically takes care of the size here \n",
        "  sq = diff*diff # square the differences\n",
        "  dist = sq.sum(1) # add up the squares\n",
        "  label = trainlabel[np.argmin(dist)] # our predicted label is the label of the training data which has the least distance from the query\n",
        "  return label\n",
        "\n",
        "def NN(traindata, trainlabel, testdata):\n",
        "  # we will run nearest neighbour for each sample in the test data \n",
        "  # and collect the predicted classes in an array using list comprehension\n",
        "  predlabel = np.array([NN1(traindata, trainlabel, i) for i in testdata])\n",
        "  return predlabel\n"
      ],
      "execution_count": null,
      "outputs": []
    },
    {
      "cell_type": "markdown",
      "metadata": {
        "id": "03JktkfIGaje"
      },
      "source": [
        "We will also define a 'random classifier', which randomly allots labels to each sample"
      ]
    },
    {
      "cell_type": "code",
      "metadata": {
        "id": "fogWAtjyGhAH"
      },
      "source": [
        "def RandomClassifier(traindata, trainlabel, testdata):\n",
        "  # in reality, we don't need these arguments\n",
        "\n",
        "  classes = np.unique(trainlabel)\n",
        "  rints = rng.integers(low=0, high=len(classes), size=len(testdata))\n",
        "  predlabel = classes[rints]\n",
        "  return predlabel"
      ],
      "execution_count": null,
      "outputs": []
    },
    {
      "cell_type": "markdown",
      "metadata": {
        "id": "1Hjf1KHs7fU5"
      },
      "source": [
        "Let us define a metric 'Accuracy' to see how good our learning algorithm is. Accuracy is the ratio of the number of correctly classified samples to the total number of samples. The higher the accuracy, the better the algorithm. "
      ]
    },
    {
      "cell_type": "code",
      "metadata": {
        "id": "ouuCqWU07bz-"
      },
      "source": [
        "def Accuracy(gtlabel, predlabel):\n",
        "  assert len(gtlabel)==len(predlabel), \"Length of the groundtruth labels and predicted labels should be the same\"\n",
        "  correct = (gtlabel==predlabel).sum() # count the number of times the groundtruth label is equal to the predicted label.\n",
        "  return correct/len(gtlabel)"
      ],
      "execution_count": null,
      "outputs": []
    },
    {
      "cell_type": "markdown",
      "metadata": {
        "id": "4vJFwBFa9Klw"
      },
      "source": [
        "Let us make a function to split the dataset with the desired probability."
      ]
    },
    {
      "cell_type": "code",
      "metadata": {
        "id": "Ko0VzpSM2Tdi"
      },
      "source": [
        "def split(data, label, percent):\n",
        "  # generate a random number for each sample\n",
        "  rnd = rng.random(len(label))\n",
        "  split1 = rnd<percent\n",
        "  split2 = rnd>=percent\n",
        "  split1data = data[split1,:]\n",
        "  split1label = label[split1]\n",
        "  split2data = data[split2,:]\n",
        "  split2label = label[split2]\n",
        "  return split1data, split1label, split2data, split2label"
      ],
      "execution_count": null,
      "outputs": []
    },
    {
      "cell_type": "markdown",
      "metadata": {
        "id": "AcK3LEAJ_LGC"
      },
      "source": [
        "We will reserve 20% of our dataset as the test set. We will not change this portion throughout our experiments"
      ]
    },
    {
      "cell_type": "code",
      "metadata": {
        "id": "bBZkHBLJ1iU-",
        "colab": {
          "base_uri": "https://localhost:8080/"
        },
        "outputId": "e92e44f5-e61c-4a15-bfd0-8669a5a41844"
      },
      "source": [
        "testdata, testlabel, alltraindata, alltrainlabel = split(dataset.data, dataset.target, 20/100)\n",
        "print('Number of test samples = ', len(testlabel))\n",
        "print('Number of other samples = ', len(alltrainlabel))\n",
        "print('Percent of test data = ', len(testlabel)*100/len(dataset.target),'%')"
      ],
      "execution_count": null,
      "outputs": [
        {
          "output_type": "stream",
          "name": "stdout",
          "text": [
            "Number of test samples =  4144\n",
            "Number of other samples =  16496\n",
            "Percent of test data =  20.07751937984496 %\n"
          ]
        }
      ]
    },
    {
      "cell_type": "markdown",
      "metadata": {
        "id": "a6Ss0Z6IAGNV"
      },
      "source": [
        "## Experiments with splits\n",
        "\n",
        "Let us reserve some of our train data as a validation set"
      ]
    },
    {
      "cell_type": "code",
      "metadata": {
        "id": "WFew2iry_7W7"
      },
      "source": [
        "traindata, trainlabel, valdata, vallabel = split(alltraindata, alltrainlabel, 75/100)"
      ],
      "execution_count": null,
      "outputs": []
    },
    {
      "cell_type": "markdown",
      "metadata": {
        "id": "60hiu4clFN1i"
      },
      "source": [
        "What is the accuracy of our classifiers on the train dataset?"
      ]
    },
    {
      "cell_type": "code",
      "metadata": {
        "id": "DBlZDTHUFTZx",
        "colab": {
          "base_uri": "https://localhost:8080/"
        },
        "outputId": "7dd74af1-de3b-4772-851e-acd1c1a4d972"
      },
      "source": [
        "trainpred = NN(traindata, trainlabel, traindata)\n",
        "trainAccuracy = Accuracy(trainlabel, trainpred)\n",
        "print(\"Train accuracy using nearest neighbour is \", trainAccuracy)\n",
        "\n",
        "trainpred = RandomClassifier(traindata, trainlabel, traindata)\n",
        "trainAccuracy = Accuracy(trainlabel, trainpred)\n",
        "print(\"Train accuracy using random classifier is \", trainAccuracy)"
      ],
      "execution_count": null,
      "outputs": [
        {
          "output_type": "stream",
          "name": "stdout",
          "text": [
            "Train accuracy using nearest neighbour is  1.0\n",
            "Train accuracy using random classifier is  0.164375808538163\n"
          ]
        }
      ]
    },
    {
      "cell_type": "markdown",
      "metadata": {
        "id": "7h08-9gJDtSy"
      },
      "source": [
        "For nearest neighbour, the train accuracy is always 1. The accuracy of the random classifier is close to 1/(number of classes) which is 0.1666 in our case.\n",
        "\n",
        "Let us predict the labels for our validation set and get the accuracy"
      ]
    },
    {
      "cell_type": "code",
      "metadata": {
        "id": "4h7bXoW_2H3v",
        "colab": {
          "base_uri": "https://localhost:8080/"
        },
        "outputId": "c38bf8b5-527a-474b-d977-feffcb65f9c0"
      },
      "source": [
        "valpred = NN(traindata, trainlabel, valdata)\n",
        "valAccuracy = Accuracy(vallabel, valpred)\n",
        "print(\"Validation accuracy using nearest neighbour is \", valAccuracy)\n",
        "\n",
        "valpred = RandomClassifier(traindata, trainlabel, valdata)\n",
        "valAccuracy = Accuracy(vallabel, valpred)\n",
        "print(\"Validation accuracy using random classifier is \", valAccuracy)"
      ],
      "execution_count": null,
      "outputs": [
        {
          "output_type": "stream",
          "name": "stdout",
          "text": [
            "Validation accuracy using nearest neighbour is  0.34108527131782945\n",
            "Validation accuracy using random classifier is  0.1688468992248062\n"
          ]
        }
      ]
    },
    {
      "cell_type": "markdown",
      "metadata": {
        "id": "py9bLguFEjfg"
      },
      "source": [
        "Validation accuracy of nearest neighbour is considerably less than its train accuracy while the validation accuracy of random classifier is the same. However, the validation accuracy of nearest neighbour is twice that of the random classifier. \n",
        "\n",
        "Now let us try another random split and check the validation accuracy"
      ]
    },
    {
      "cell_type": "code",
      "metadata": {
        "id": "ujm3cyYzEntE",
        "colab": {
          "base_uri": "https://localhost:8080/"
        },
        "outputId": "fa7d1a68-9ed0-4fa2-8f53-381b4c14024c"
      },
      "source": [
        "traindata, trainlabel, valdata, vallabel = split(alltraindata, alltrainlabel, 75/100)\n",
        "valpred = NN(traindata, trainlabel, valdata)\n",
        "valAccuracy = Accuracy(vallabel, valpred)\n",
        "print(\"Validation accuracy of nearest neighbour is \", valAccuracy)"
      ],
      "execution_count": null,
      "outputs": [
        {
          "output_type": "stream",
          "name": "stdout",
          "text": [
            "Validation accuracy of nearest neighbour is  0.34048257372654156\n"
          ]
        }
      ]
    },
    {
      "cell_type": "markdown",
      "metadata": {
        "id": "oSOx7U83EKie"
      },
      "source": [
        "You can run the above cell multiple times to try with different random splits. \n",
        "We notice that the accuracy is different for each run, but close together. \n",
        "\n",
        "Now let us compare it with the accuracy we get on the test dataset. "
      ]
    },
    {
      "cell_type": "code",
      "metadata": {
        "id": "PNEZ5ToYBEDW",
        "colab": {
          "base_uri": "https://localhost:8080/"
        },
        "outputId": "7769cbae-5ec1-47ff-bbfc-733d1dbb84ef"
      },
      "source": [
        "testpred = NN(alltraindata, alltrainlabel, testdata)\n",
        "testAccuracy = Accuracy(testlabel, testpred)\n",
        "print('Test accuracy is ', testAccuracy)"
      ],
      "execution_count": null,
      "outputs": [
        {
          "output_type": "stream",
          "name": "stdout",
          "text": [
            "Test accuracy is  0.34917953667953666\n"
          ]
        }
      ]
    },
    {
      "cell_type": "markdown",
      "metadata": {
        "id": "w3dGD531K3gH"
      },
      "source": [
        "### Try it out for yourself and answer:\n",
        "1. How is the accuracy of the validation set affected if we increase the percentage of validation set? What happens when we reduce it?\n",
        "2. How does the size of the train and validation set affect how well we can predict the accuracy on the test set using the validation set?\n",
        "3. What do you think is a good percentage to reserve for the validation set so that thest two factors are balanced? \n",
        "\n",
        "\n",
        "\n",
        "\n",
        "Answer for both nearest neighbour and random classifier. You can note down the values for your experiments and plot a graph using  <a href=https://matplotlib.org/stable/gallery/lines_bars_and_markers/step_demo.html#sphx-glr-gallery-lines-bars-and-markers-step-demo-py>plt.plot<href>. Check also for extreme values for splits, like 99.9% or 0.1%\n",
        "\n",
        "---"
      ]
    },
    {
      "cell_type": "markdown",
      "metadata": {
        "id": "YQ3ijmJdrELJ"
      },
      "source": [
        "***1.How is the accuracy of the validation set affected if we increase the percentage of validation set? What happens when we reduce it?***"
      ]
    },
    {
      "cell_type": "code",
      "metadata": {
        "colab": {
          "base_uri": "https://localhost:8080/",
          "height": 652
        },
        "id": "TNmuitDI2K4e",
        "outputId": "4deab31a-c4e9-444c-a0e3-430a0da0557a"
      },
      "source": [
        "# increase percentage of validation set\n",
        "\n",
        "print(\"{}  {}\".format(\"Training data\",\"Validation accuracy(NN, RandomClassifier)\"))\n",
        "x,y1,y2 = [],[],[]\n",
        "for i in (np.arange(55,75,1)):\n",
        "  x.append(i)\n",
        "  traindata, trainlabel, valdata, vallabel = split(alltraindata, alltrainlabel, i/100)\n",
        "  valpred1 = NN(traindata, trainlabel, valdata)\n",
        "  valpred2 = RandomClassifier(traindata, trainlabel, valdata)\n",
        "  valAccuracy1 = Accuracy(vallabel, valpred1)\n",
        "  y1.append(valAccuracy1)\n",
        "  valAccuracy2 = Accuracy(vallabel, valpred2)\n",
        "  y2.append(valAccuracy2)\n",
        "\n",
        "  print(\"    {}%        {}\".format(i,(valAccuracy1,valAccuracy2)))\n",
        "plt.step(x, y1, label='NN Classifier')\n",
        "plt.plot(x, y1, 'o--', color='grey', alpha=0.3)\n",
        "\n",
        "plt.step(x, y2 , where='mid', label='Random Classifier')\n",
        "plt.plot(x, y2 , 'o--', color='grey', alpha=0.3)\n",
        "\n",
        "\n",
        "plt.grid(axis='x', color='0.95')\n",
        "plt.legend(title='Classifier:')\n",
        "plt.xlabel(\"Size of Training set(%)\")\n",
        "plt.ylabel(\"Validation Accuracy\")\n",
        "plt.title('Validation Accuracy Vs Size')\n",
        "plt.show()"
      ],
      "execution_count": null,
      "outputs": [
        {
          "output_type": "stream",
          "name": "stdout",
          "text": [
            "Training data  Validation accuracy(NN, RandomClassifier)\n",
            "    55%        (0.33112582781456956, 0.16691444789836465)\n",
            "    56%        (0.3277345350266284, 0.16400382356957532)\n",
            "    57%        (0.33470897964992175, 0.16778141454390208)\n",
            "    58%        (0.33261307980409105, 0.16666666666666666)\n",
            "    59%        (0.33188362327534493, 0.16511697660467906)\n",
            "    60%        (0.3350276573478846, 0.15831962924203916)\n",
            "    61%        (0.3319392812887237, 0.16047087980173483)\n",
            "    62%        (0.3287888395688015, 0.1699429296131896)\n",
            "    63%        (0.3325082508250825, 0.167986798679868)\n",
            "    64%        (0.33490725126475546, 0.1711635750421585)\n",
            "    65%        (0.33805983053778316, 0.15632024900570637)\n",
            "    66%        (0.32749687332499555, 0.17437913167768448)\n",
            "    67%        (0.33265645191065163, 0.16226693741923573)\n",
            "    68%        (0.3421740754576018, 0.16398954053044454)\n",
            "    69%        (0.3364687438761513, 0.16519694297472076)\n",
            "    70%        (0.3289178724271449, 0.17098023232117382)\n",
            "    71%        (0.33762125685364824, 0.16237874314635176)\n",
            "    72%        (0.3408993576017131, 0.1683083511777302)\n",
            "    73%        (0.3303289770166742, 0.17057232987832358)\n",
            "    74%        (0.35055177271660015, 0.16764498708617045)\n"
          ]
        },
        {
          "output_type": "display_data",
          "data": {
            "image/png": "[encoded data removed]",
            "text/plain": [
              "<Figure size 432x288 with 1 Axes>"
            ]
          },
          "metadata": {
            "needs_background": "light"
          }
        }
      ]
    },
    {
      "cell_type": "code",
      "metadata": {
        "colab": {
          "base_uri": "https://localhost:8080/",
          "height": 584
        },
        "id": "pIDg_IPyuOsu",
        "outputId": "e107e4df-d708-4e8b-a87a-86cacbd4c19c"
      },
      "source": [
        "# decrease percentage of validation set\n",
        "x,y1_,y2_ = [],[],[]\n",
        "print(\"{}  {}\".format(\"Training data\",\"Validation accuracy(NN, RandomClassifier)\"))\n",
        "for i in (np.arange(75,91,1)):\n",
        "  x.append(i)\n",
        "  traindata, trainlabel, valdata, vallabel = split(alltraindata, alltrainlabel, i/100)\n",
        "  valpred1 = NN(traindata, trainlabel, valdata)\n",
        "  valpred2 = RandomClassifier(traindata, trainlabel, valdata)\n",
        "  valAccuracy1 = Accuracy(vallabel, valpred1)\n",
        "  y1_.append(valAccuracy1)\n",
        "  valAccuracy2 = Accuracy(vallabel, valpred2)\n",
        "  y2_.append(valAccuracy2)\n",
        "  print(\"    {}%        {}\".format(i,(valAccuracy1,valAccuracy2)))\n",
        "\n",
        "plt.step(x, y1_, label='NN Classifier')\n",
        "plt.plot(x, y1_, 'o--', color='grey', alpha=0.3)\n",
        "\n",
        "plt.step(x, y2_ , where='mid', label='Random Classifier')\n",
        "plt.plot(x, y2_ , 'o--', color='grey', alpha=0.3)\n",
        "\n",
        "\n",
        "plt.grid(axis='x', color='0.95')\n",
        "plt.legend(title='Parameter where:')\n",
        "plt.xlabel(\"Size of Training set(%)\")\n",
        "plt.ylabel(\"Validation Accuracy\")\n",
        "plt.title('Validation Accuracy Vs Size')\n",
        "plt.show()\n",
        "\n"
      ],
      "execution_count": null,
      "outputs": [
        {
          "output_type": "stream",
          "name": "stdout",
          "text": [
            "Training data  Validation accuracy(NN, RandomClassifier)\n",
            "    75%        (0.3437652811735941, 0.1508557457212714)\n",
            "    76%        (0.3416873449131514, 0.1707196029776675)\n",
            "    77%        (0.34370912895631706, 0.16453047345017002)\n",
            "    78%        (0.34623833058758924, 0.17215815485996705)\n",
            "    79%        (0.35522388059701493, 0.15791044776119403)\n",
            "    80%        (0.3461422996097268, 0.15971179825878115)\n",
            "    81%        (0.3337543416482476, 0.16577202399747396)\n",
            "    82%        (0.35360054347826086, 0.16168478260869565)\n",
            "    83%        (0.33263157894736844, 0.17192982456140352)\n",
            "    84%        (0.34375, 0.1680640243902439)\n",
            "    85%        (0.3448692152917505, 0.17706237424547283)\n",
            "    86%        (0.3383838383838384, 0.16835016835016836)\n",
            "    87%        (0.3475836431226766, 0.17472118959107807)\n",
            "    88%        (0.338659793814433, 0.1515463917525773)\n",
            "    89%        (0.34813210611802925, 0.1580942068218733)\n",
            "    90%        (0.3419626730885009, 0.17760385310054183)\n"
          ]
        },
        {
          "output_type": "display_data",
          "data": {
            "image/png": "[encoded data removed]",
            "text/plain": [
              "<Figure size 432x288 with 1 Axes>"
            ]
          },
          "metadata": {
            "needs_background": "light"
          }
        }
      ]
    },
    {
      "cell_type": "code",
      "metadata": {
        "colab": {
          "base_uri": "https://localhost:8080/"
        },
        "id": "mDOeostF9Rr-",
        "outputId": "bc437d1c-bc54-4102-8b31-3e7cf7f7f606"
      },
      "source": [
        "# Check for Extrem values (99.9%)\n",
        "traindata, trainlabel, valdata, vallabel = split(alltraindata, alltrainlabel, 99.9/100)\n",
        "valpred = NN(traindata, trainlabel, valdata)\n",
        "valAccuracy = Accuracy(vallabel, valpred)\n",
        "print(\"Validation accuracy of nearest neighbour is \", valAccuracy)\n",
        "testpred = NN(alltraindata, alltrainlabel, testdata)\n",
        "testAccuracy = Accuracy(testlabel, testpred)\n",
        "print('Test accuracy is  ', testAccuracy)\n"
      ],
      "execution_count": null,
      "outputs": [
        {
          "output_type": "stream",
          "name": "stdout",
          "text": [
            "Validation accuracy of nearest neighbour is  0.4\n",
            "Test accuracy is  0.34917953667953666\n"
          ]
        }
      ]
    },
    {
      "cell_type": "code",
      "metadata": {
        "colab": {
          "base_uri": "https://localhost:8080/"
        },
        "id": "pIaUUxYX-0DJ",
        "outputId": "10fa153e-280e-4bde-b823-e1118ce81b06"
      },
      "source": [
        "valpred = RandomClassifier(traindata, trainlabel, valdata)\n",
        "valAccuracy = Accuracy(vallabel, valpred)\n",
        "print(\"Validation accuracy of random classifier is \", valAccuracy)\n",
        "testpred = RandomClassifier(alltraindata, alltrainlabel, testdata)\n",
        "testAccuracy = Accuracy(testlabel, testpred)\n",
        "print('Test accuracy of random classifier is ', testAccuracy)"
      ],
      "execution_count": null,
      "outputs": [
        {
          "output_type": "stream",
          "name": "stdout",
          "text": [
            "Validation accuracy of random classifier is  0.13333333333333333\n",
            "Test accuracy is  0.16891891891891891\n"
          ]
        }
      ]
    },
    {
      "cell_type": "markdown",
      "metadata": {
        "id": "lSPXJS8z-MPD"
      },
      "source": [
        "As we see above, percentage of validation set affects the accuracy but we can't make any statement like if we increase percentage, accuracy will also increase as we see for 99.9%. Same thing valid if we decrease the percentage."
      ]
    },
    {
      "cell_type": "markdown",
      "metadata": {
        "id": "_jck6-9TuChK"
      },
      "source": [
        "***2. How does the size of the train and validation set affect how well we can predict the accuracy on the test set using the validation set?***"
      ]
    },
    {
      "cell_type": "code",
      "metadata": {
        "id": "hD5Uuj1UGwBX"
      },
      "source": [
        "\n",
        "x,t1,t2 = [],[],[]\n",
        "for i in (np.arange(75,91,1)):\n",
        "  x.append(i)\n",
        "  traindata, trainlabel, valdata, vallabel = split(alltraindata, alltrainlabel, i/100)\n",
        "\n",
        "  testpred1 = NN(alltraindata, alltrainlabel, testdata)\n",
        "  testAccuracy1 = Accuracy(testlabel, testpred1)\n",
        "  t1.append(testAccuracy1)\n",
        "\n",
        "  testpred2 = RandomClassifier(alltraindata, alltrainlabel, testdata)\n",
        "  testAccuracy2 = Accuracy(testlabel, testpred2)\n",
        "  t2.append(testAccuracy2)\n",
        "\n"
      ],
      "execution_count": null,
      "outputs": []
    },
    {
      "cell_type": "code",
      "metadata": {
        "colab": {
          "base_uri": "https://localhost:8080/",
          "height": 295
        },
        "id": "ZflFiftkKFz-",
        "outputId": "43cd9189-eadd-4baf-8fd0-efa13e27c9d9"
      },
      "source": [
        "plt.subplot(1,3,1)\n",
        "plt.step(x, y1_, label='NN Classifier')\n",
        "plt.plot(x, y1_, 'o--', color='grey', alpha=0.3)\n",
        "\n",
        "plt.step(x, y2_ , where='mid', label='Random Classifier')\n",
        "plt.plot(x, y2_ , 'o--', color='grey', alpha=0.3)\n",
        "\n",
        "plt.grid(axis='x', color='0.95')\n",
        "plt.legend(title='Classifier:')\n",
        "plt.xlabel(\"Size of Training set(%)\")\n",
        "plt.ylabel(\"Validation Accuracy\")\n",
        "plt.title('Validation Accuracy Vs Size')\n",
        "\n",
        "plt.subplot(1,3,3)\n",
        "plt.step(x, t1, label='NN Classifier')\n",
        "plt.plot(x, t1, 'o--', color='grey', alpha=0.3)\n",
        "\n",
        "plt.step(x, t2 , where='mid', label='Random Classifier')\n",
        "plt.plot(x, t2 , 'o--', color='grey', alpha=0.3)\n",
        "\n",
        "\n",
        "plt.grid(axis='x', color='0.95')\n",
        "plt.legend(title='Classifier:')\n",
        "plt.xlabel(\"Size of Training set(%)\")\n",
        "plt.ylabel(\"Test Accuracy\")\n",
        "plt.title('Test Accuracy Vs Size')\n",
        "plt.show()"
      ],
      "execution_count": null,
      "outputs": [
        {
          "output_type": "display_data",
          "data": {
            "image/png": "[encoded data removed]",
            "text/plain": [
              "<Figure size 432x288 with 2 Axes>"
            ]
          },
          "metadata": {
            "needs_background": "light"
          }
        }
      ]
    },
    {
      "cell_type": "markdown",
      "metadata": {
        "id": "se_YPmYK3uSX"
      },
      "source": [
        "if size of the train data is sufficiently large, then there are less chance that model overfits the data. Then validation accuracy and test accuracy  wil fall under same range (if you don't overfit validation data).\n",
        "\n",
        "\n",
        "Also, when size of training data is small, if we can able to avoid overfitting on validation data, It can give rough idea about how well our model going to perform on test data.\n",
        "\n",
        "---\n",
        "\n"
      ]
    },
    {
      "cell_type": "markdown",
      "metadata": {
        "id": "-hx8ahITOZlA"
      },
      "source": [
        " ***3. What do you think is a good percentage to reserve for the validation set so that thest two factors are balanced?***"
      ]
    },
    {
      "cell_type": "markdown",
      "metadata": {
        "id": "kfWx8pHvOQc6"
      },
      "source": [
        "I think percetage of validation should be between ***20 to 30% of training data.***\n",
        "\n",
        "---\n",
        "\n"
      ]
    },
    {
      "cell_type": "markdown",
      "metadata": {
        "id": "PnYvkAZLQY7h"
      },
      "source": [
        "## Multiple Splits\n",
        "\n",
        "One way to get more accurate estimates for the test accuracy is by using <b>crossvalidation</b>. Here, we will try a simple version, where we do multiple train/val splits and take the average of validation accuracies as the test accuracy estimation. Here is a function for doing this. Note that this function will take a long time to execute. "
      ]
    },
    {
      "cell_type": "code",
      "metadata": {
        "id": "E4nGCUQXBTzo"
      },
      "source": [
        "# you can use this function for random classifier also\n",
        "def AverageAccuracy(alldata, alllabel, splitpercent, iterations, classifier=NN):\n",
        "  accuracy = 0\n",
        "  for ii in range(iterations):\n",
        "    traindata, trainlabel, valdata, vallabel = split(alldata, alllabel, splitpercent)\n",
        "    valpred = classifier(traindata, trainlabel, valdata)\n",
        "    accuracy += Accuracy(vallabel, valpred)\n",
        "  return accuracy/iterations # average of all accuracies"
      ],
      "execution_count": null,
      "outputs": []
    },
    {
      "cell_type": "code",
      "metadata": {
        "id": "H3qtNar7Bbik",
        "colab": {
          "base_uri": "https://localhost:8080/"
        },
        "outputId": "c67006ba-49b9-4d97-ecbe-7990f796f3a3"
      },
      "source": [
        "print('Average validation accuracy is ', AverageAccuracy(alltraindata, alltrainlabel, 75/100, 10, classifier=NN))\n",
        "testpred = NN(alltraindata, alltrainlabel, testdata)\n",
        "print('test accuracy is ',Accuracy(testlabel, testpred) )"
      ],
      "execution_count": null,
      "outputs": [
        {
          "output_type": "stream",
          "name": "stdout",
          "text": [
            "Average validation accuracy is  0.33584635395170215\n",
            "test accuracy is  0.34917953667953666\n"
          ]
        }
      ]
    },
    {
      "cell_type": "markdown",
      "metadata": {
        "id": "33GIn4x5VH-d"
      },
      "source": [
        "This is a very simple way of doing cross-validation. There are many well-known algorithms for cross-validation, like k-fold cross-validation, leave-one-out etc. This will be covered in detail in a later module. For more information about cross-validation, check <a href=https://en.wikipedia.org/wiki/Cross-validation_(statistics)>Cross-validatioin (Wikipedia)</a>\n",
        "\n",
        "### Questions\n",
        "1. Does averaging the validation accuracy across multiple splits give more consistent results?\n",
        "2. Does it give more accurate estimate of test accuracy?\n",
        "3. What is the effect of the number of iterations on the estimate? Do we get a better estimate with higher iterations?\n",
        "4. Consider the results you got for the previous questions. Can we deal with a very small train dataset or validation dataset by increasing the iterations?\n",
        "\n",
        "\n",
        "---\n",
        "\n"
      ]
    },
    {
      "cell_type": "markdown",
      "metadata": {
        "id": "oZIiMKvb4pKE"
      },
      "source": [
        "***1. Does averaging the validation accuracy across multiple splits give more consistent results?***"
      ]
    },
    {
      "cell_type": "code",
      "metadata": {
        "id": "SEsw2elgwbrK"
      },
      "source": [
        "x = np.arange(55,91,5)\n",
        "y = []\n",
        "for i in x:\n",
        "  avg_acc = AverageAccuracy(alltraindata, alltrainlabel, i/100, 10, classifier=NN)\n",
        "  y.append(avg_acc)"
      ],
      "execution_count": null,
      "outputs": []
    },
    {
      "cell_type": "code",
      "metadata": {
        "id": "1WileBUqC404",
        "colab": {
          "base_uri": "https://localhost:8080/",
          "height": 279
        },
        "outputId": "948e6df3-a785-4acb-abff-dda652541bb1"
      },
      "source": [
        "plt.plot(x,y)\n",
        "plt.xlabel(\"Size of traning set(%)\")\n",
        "plt.ylabel(\"Average Validation Accuracy\")\n",
        "plt.show()"
      ],
      "execution_count": null,
      "outputs": [
        {
          "output_type": "display_data",
          "data": {
            "image/png": "[encoded data removed]",
            "text/plain": [
              "<Figure size 432x288 with 1 Axes>"
            ]
          },
          "metadata": {
            "needs_background": "light"
          }
        }
      ]
    },
    {
      "cell_type": "markdown",
      "metadata": {
        "id": "Vjw20mjL4iI6"
      },
      "source": [
        "*Average Validation Accuracy* is **not consistent** as it veries between **0.33 to 0.34.** But we can say it is sort of consistent as **variation \n",
        "is whitin 0.1.**\n",
        "\n",
        "\n",
        "---\n",
        "\n",
        "\n"
      ]
    },
    {
      "cell_type": "markdown",
      "metadata": {
        "id": "5QDxM_G06CQ9"
      },
      "source": [
        "**2. Does it give more accurate estimate of test accuracy?**"
      ]
    },
    {
      "cell_type": "code",
      "metadata": {
        "id": "QsXXGPYQ6M3n"
      },
      "source": [
        "testpred = NN(alltraindata, alltrainlabel, testdata)\n",
        "print('test accuracy is ',Accuracy(testlabel, testpred) )\n",
        "\n",
        "x = np.arange(55,91,5)\n",
        "y = []\n",
        "for i in x:\n",
        "  avg_acc = AverageAccuracy(alltraindata, alltrainlabel, i/100, 10, classifier=NN)\n",
        "  y.append(avg_acc)"
      ],
      "execution_count": null,
      "outputs": []
    },
    {
      "cell_type": "code",
      "metadata": {
        "id": "18EUl-_67Wqp"
      },
      "source": [
        "x,t = [],[]\n",
        "for i in (np.arange(55,91,5)):\n",
        "  x.append(i)\n",
        "  traindata, trainlabel, valdata, vallabel = split(alltraindata, alltrainlabel, i/100)\n",
        "  testpred = NN(alltraindata, alltrainlabel, testdata)\n",
        "  testAccuracy = Accuracy(testlabel, testpred)\n",
        "  t.append(testAccuracy)"
      ],
      "execution_count": null,
      "outputs": []
    },
    {
      "cell_type": "code",
      "metadata": {
        "colab": {
          "base_uri": "https://localhost:8080/",
          "height": 279
        },
        "id": "vMydwoUB8pf8",
        "outputId": "9d0f81a2-0142-4d1d-9c79-111dc95ff157"
      },
      "source": [
        "plt.plot(x,t)\n",
        "plt.xlabel(\"Size of traning set(%)\")\n",
        "plt.ylabel(\"Test Accuracy\")\n",
        "plt.show()"
      ],
      "execution_count": null,
      "outputs": [
        {
          "output_type": "display_data",
          "data": {
            "image/png": "[encoded data removed]",
            "text/plain": [
              "<Figure size 432x288 with 1 Axes>"
            ]
          },
          "metadata": {
            "needs_background": "light"
          }
        }
      ]
    },
    {
      "cell_type": "markdown",
      "metadata": {
        "id": "-bi8BxEr8xjJ"
      },
      "source": [
        "As we show in previous question Average Validation Accuracy varis between 0.33 to 0.34 but we got consistant Test Accuracy 0.35 for different size of train data.\n",
        "\n",
        "That's why we can say that Average Validation Accuracy gives **accurate estimate** of *Test Accuracy*.\n",
        "\n",
        "\n",
        "---\n",
        "\n",
        "\n"
      ]
    },
    {
      "cell_type": "markdown",
      "metadata": {
        "id": "QLp_1W69CzqC"
      },
      "source": [
        "***3. What is the effect of the number of iterations on the estimate? Do we get a better estimate with higher iterations?***"
      ]
    },
    {
      "cell_type": "code",
      "metadata": {
        "id": "_Y73BZXFEsLS"
      },
      "source": [
        "# Let's iterate it over 10,20,30,...,100 times\n",
        "# Here I have taken 25% of training data as Validation data.\n",
        "x = np.arange(10,51,10)\n",
        "y =[]\n",
        "for i in x:\n",
        "  avg_acc = AverageAccuracy(alltraindata, alltrainlabel, 75/100, i, classifier=NN)\n",
        "  y.append(avg_acc)"
      ],
      "execution_count": null,
      "outputs": []
    },
    {
      "cell_type": "code",
      "metadata": {
        "colab": {
          "base_uri": "https://localhost:8080/",
          "height": 279
        },
        "id": "R8ZC-LhaGcVx",
        "outputId": "06b008f9-041b-4887-e409-89da58480d60"
      },
      "source": [
        "plt.plot(x,y)\n",
        "plt.xlabel(\"Number of iterations\")\n",
        "plt.ylabel(\"Average Validation Accuracy\")\n",
        "plt.show()"
      ],
      "execution_count": null,
      "outputs": [
        {
          "output_type": "display_data",
          "data": {
            "image/png": "[encoded data removed]",
            "text/plain": [
              "<Figure size 432x288 with 1 Axes>"
            ]
          },
          "metadata": {
            "needs_background": "light"
          }
        }
      ]
    },
    {
      "cell_type": "markdown",
      "metadata": {
        "id": "zQmSkQfvLiib"
      },
      "source": [
        "We saw in previous question that our Test Accuracy is around 0.35. So here we **get good approximation at 40 iterations** as **0.3412.** \n",
        "\n",
        "\n",
        "Our estimation is roughly around 0.34, Which is not much far than 0.35.\n",
        "\n",
        "However, there is not a linear relationship, we **can't make statement** like for higher itretion we will get a better estimate.\n",
        "\n",
        "---\n",
        "\n"
      ]
    },
    {
      "cell_type": "markdown",
      "metadata": {
        "id": "ozntrYTVNlSQ"
      },
      "source": [
        "4. Consider the results you got for the previous questions. Can we deal with a very small train dataset or validation dataset by increasing the iterations?\n"
      ]
    },
    {
      "cell_type": "code",
      "metadata": {
        "id": "hQEuju-kPSIG"
      },
      "source": [
        "# Let's check for  very small validation dataset\n",
        "# suppose we take 5% of train data as Validation data\n",
        "x = np.arange(10,61,10)\n",
        "y =[]\n",
        "for i in x:\n",
        "  avg_acc = AverageAccuracy(alltraindata, alltrainlabel, 95/100, i, classifier=NN)\n",
        "  y.append(avg_acc)\n"
      ],
      "execution_count": null,
      "outputs": []
    },
    {
      "cell_type": "code",
      "metadata": {
        "colab": {
          "base_uri": "https://localhost:8080/",
          "height": 279
        },
        "id": "5VUoVIGxW1GY",
        "outputId": "822d048f-557e-44fd-c464-26817e8cc504"
      },
      "source": [
        "plt.plot(x,y)\n",
        "plt.xlabel(\"Number of iterations\")\n",
        "plt.ylabel(\"Average Validation Accuracy\")\n",
        "plt.show()"
      ],
      "execution_count": null,
      "outputs": [
        {
          "output_type": "display_data",
          "data": {
            "image/png": "[encoded data removed]",
            "text/plain": [
              "<Figure size 432x288 with 1 Axes>"
            ]
          },
          "metadata": {
            "needs_background": "light"
          }
        }
      ]
    },
    {
      "cell_type": "markdown",
      "metadata": {
        "id": "KOh8zjbPYioZ"
      },
      "source": [
        "Here we can see however our Validation data is very small, we get Average Validation Accuracy between **0.34 and 0.35**.\n",
        "\n",
        "For **30 iteration** we get Average Validation Accuracy around 0.35."
      ]
    },
    {
      "cell_type": "markdown",
      "metadata": {
        "id": "1ZRJ9uMCfxWI"
      },
      "source": [
        "It shows with increasing the iterations we can deal with a very small train dataset or validation dataset.\n",
        "\n",
        "---\n",
        "\n"
      ]
    },
    {
      "cell_type": "code",
      "metadata": {
        "id": "D9E0E9_EeV6y"
      },
      "source": [
        ""
      ],
      "execution_count": null,
      "outputs": []
    }
  ]
}